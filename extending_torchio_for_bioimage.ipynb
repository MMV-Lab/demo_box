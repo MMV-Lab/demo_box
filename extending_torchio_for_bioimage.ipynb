{
 "cells": [
  {
   "cell_type": "code",
   "execution_count": 4,
   "metadata": {},
   "outputs": [],
   "source": [
    "import numpy as np\n",
    "import torchio as tio\n",
    "from aicsimageio import AICSImage\n",
    "from functools import partial\n",
    "\n",
    "# only for visualization \n",
    "# follow the instruction to make proper installation: https://pypi.org/project/nbvv/\n",
    "import nbvv"
   ]
  },
  {
   "cell_type": "code",
   "execution_count": 5,
   "metadata": {},
   "outputs": [],
   "source": [
    "# make a customizaed reading wrapper for aicsimageio\n",
    "def aicsimageio_wrapper(fn, **kwargs):\n",
    "    img = AICSImage(fn).reader.get_image_dask_data(**kwargs)\n",
    "    img_data = tio.data.io.check_uint_to_int(img.compute())\n",
    "    return img_data, np.eye(4)"
   ]
  },
  {
   "cell_type": "code",
   "execution_count": 3,
   "metadata": {},
   "outputs": [],
   "source": [
    "# specify readering parameters\n",
    "# in real situation, we usually read such parameters from a configuration file (e.g., json or yaml)\n",
    "my_reader_params = {\n",
    "    \"dimension_order_out\": \"CZYX\",\n",
    "    \"C\": [1,2],\n",
    "    \"T\": 0\n",
    "}"
   ]
  },
  {
   "cell_type": "code",
   "execution_count": 14,
   "metadata": {},
   "outputs": [],
   "source": [
    "# define the actual reader according to user-specified reading parameters\n",
    "bio_reader = partial(aicsimageio_wrapper, **my_reader_params)"
   ]
  },
  {
   "cell_type": "code",
   "execution_count": 15,
   "metadata": {},
   "outputs": [],
   "source": [
    "filepath = \"./sample_data/multi_channel_3D_sample.tiff\"\n",
    "my_subject = tio.Subject(\n",
    "    input=tio.ScalarImage(filepath, reader=bio_reader),\n",
    "    label = \"Normal\"\n",
    ")"
   ]
  },
  {
   "cell_type": "code",
   "execution_count": 16,
   "metadata": {},
   "outputs": [],
   "source": [
    "# note: the loading step won't be executed until the data is actually needed\n",
    "img = my_subject[\"input\"][tio.DATA]"
   ]
  },
  {
   "cell_type": "code",
   "execution_count": 17,
   "metadata": {},
   "outputs": [
    {
     "data": {
      "text/plain": [
       "torch.Size([2, 70, 200, 200])"
      ]
     },
     "execution_count": 17,
     "metadata": {},
     "output_type": "execute_result"
    }
   ],
   "source": [
    "img.shape"
   ]
  },
  {
   "cell_type": "code",
   "execution_count": 20,
   "metadata": {},
   "outputs": [
    {
     "data": {
      "application/vnd.jupyter.widget-view+json": {
       "model_id": "ce17c4f83c654f8282c2807719a4c636",
       "version_major": 2,
       "version_minor": 0
      },
      "text/plain": [
       "VolumeWidget(dimensions={'tile_width': 200, 'tile_height': 200, 'rows': 8, 'cols': 9, 'atlas_width': 1800, 'at…"
      ]
     },
     "metadata": {},
     "output_type": "display_data"
    }
   ],
   "source": [
    "nbvv.volshow(img.numpy(), spacing=[1.0, 1.0, 3.0], channel_names=[\"nuclear_envolope\", \"DNA dye\"])"
   ]
  }
 ],
 "metadata": {
  "interpreter": {
   "hash": "ea17f5c216bd3dd2bcd2307b9093c9825779ae7d87f2f80f0d09215a092e14f7"
  },
  "kernelspec": {
   "display_name": "Python 3.8.12 ('im2im')",
   "language": "python",
   "name": "python3"
  },
  "language_info": {
   "codemirror_mode": {
    "name": "ipython",
    "version": 3
   },
   "file_extension": ".py",
   "mimetype": "text/x-python",
   "name": "python",
   "nbconvert_exporter": "python",
   "pygments_lexer": "ipython3",
   "version": "3.8.12"
  },
  "orig_nbformat": 4
 },
 "nbformat": 4,
 "nbformat_minor": 2
}
